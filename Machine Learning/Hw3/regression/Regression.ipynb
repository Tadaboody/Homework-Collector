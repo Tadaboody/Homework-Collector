{
 "cells": [
  {
   "cell_type": "code",
   "execution_count": 53,
   "metadata": {},
   "outputs": [],
   "source": [
    "from scipy.io import loadmat\n",
    "from numpy import array,linalg\n",
    "from random import shuffle,seed\n",
    "reg_data = loadmat('regdata.mat')['R']"
   ]
  },
  {
   "cell_type": "code",
   "execution_count": 54,
   "metadata": {},
   "outputs": [],
   "source": [
    "def prep(data):\n",
    "    y = array([[x[0] for x in data]]).T\n",
    "    X = array(data)\n",
    "    X = array([-x for x in X])\n",
    "    for x in X:\n",
    "        x[0] = 1\n",
    "    return X,y"
   ]
  },
  {
   "cell_type": "code",
   "execution_count": 55,
   "metadata": {},
   "outputs": [],
   "source": [
    "def train(data,train_size):\n",
    "    X,y = prep(data)\n",
    "    return linalg.inv((X.T @ X)) @ X.T @ y"
   ]
  },
  {
   "cell_type": "code",
   "execution_count": 71,
   "metadata": {},
   "outputs": [],
   "source": [
    "def suc(size,data):\n",
    "    seed(1) #chosen randomly\n",
    "    data = array(data) #copy\n",
    "    shuffle(data)\n",
    "    train_data = data[:size]\n",
    "    test_data = data[size:]\n",
    "    try:\n",
    "        w = train(train_data,size)\n",
    "    except linalg.LinAlgError: #some sizes yield matrixes that are singular\n",
    "        return None\n",
    "    test_X,test_y = prep(test_data)\n",
    "    train_X,train_y = prep(train_data)\n",
    "    pred_x =[data @ w for data in train_X]\n",
    "    def mse(X,y):\n",
    "        return sum([data @ w - output for data,output in zip(X,y)])\n",
    "    suc_train = float(mse(train_X,train_y))\n",
    "    suc_test = float(mse(test_X,test_y))\n",
    "    return suc_train/100,suc_test/100"
   ]
  },
  {
   "cell_type": "code",
   "execution_count": 72,
   "metadata": {},
   "outputs": [
    {
     "name": "stdout",
     "output_type": "stream",
     "text": [
      "[(10, None), (50, (1.0614932932639931e-10, -6.095011047502758)), (100, (5.25342969126541e-11, -7.350153275432089)), (200, (-1.5175540823975097e-11, -2.057955724718482))]\n"
     ]
    }
   ],
   "source": [
    "data = reg_data\n",
    "sizes = [10,50,100,200]\n",
    "results = [(size,suc(size,data)) for size in sizes]\n",
    "print(results)"
   ]
  }
 ],
 "metadata": {
  "kernelspec": {
   "display_name": "Python 3",
   "language": "python",
   "name": "python3"
  },
  "language_info": {
   "codemirror_mode": {
    "name": "ipython",
    "version": 3
   },
   "file_extension": ".py",
   "mimetype": "text/x-python",
   "name": "python",
   "nbconvert_exporter": "python",
   "pygments_lexer": "ipython3",
   "version": "3.6.3"
  },
  "varInspector": {
   "cols": {
    "lenName": 16,
    "lenType": 16,
    "lenVar": "100"
   },
   "kernels_config": {
    "python": {
     "delete_cmd_postfix": "",
     "delete_cmd_prefix": "del ",
     "library": "var_list.py",
     "varRefreshCmd": "print(var_dic_list())"
    },
    "r": {
     "delete_cmd_postfix": ") ",
     "delete_cmd_prefix": "rm(",
     "library": "var_list.r",
     "varRefreshCmd": "cat(var_dic_list()) "
    }
   },
   "position": {
    "height": "225px",
    "left": "319px",
    "right": "20px",
    "top": "137px",
    "width": "475px"
   },
   "types_to_exclude": [
    "module",
    "function",
    "builtin_function_or_method",
    "instance",
    "_Feature"
   ],
   "window_display": false
  }
 },
 "nbformat": 4,
 "nbformat_minor": 2
}
