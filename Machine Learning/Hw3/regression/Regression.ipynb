{
 "cells": [
  {
   "cell_type": "code",
   "execution_count": 16,
   "metadata": {},
   "outputs": [],
   "source": [
    "from scipy.io import loadmat\n",
    "from numpy import array,linalg\n",
    "from random import shuffle,seed\n",
    "reg_data = loadmat('regdata.mat')['R']"
   ]
  },
  {
   "cell_type": "code",
   "execution_count": 17,
   "metadata": {},
   "outputs": [],
   "source": [
    "def prep(data):\n",
    "    y = array([[x[0] for x in data]]).T\n",
    "    X = array(data)\n",
    "    X = array([-x for x in X])\n",
    "    for x in X:\n",
    "        x[0] = 1\n",
    "    return X,y"
   ]
  },
  {
   "cell_type": "code",
   "execution_count": 18,
   "metadata": {},
   "outputs": [],
   "source": [
    "def train(data,train_size):\n",
    "    X,y = prep(data)\n",
    "    return linalg.inv((X.T @ X)) @ X.T @ y"
   ]
  },
  {
   "cell_type": "code",
   "execution_count": 19,
   "metadata": {},
   "outputs": [],
   "source": [
    "def suc(size,data):\n",
    "    seed(1) #chosen randomly\n",
    "    data = array(data) #copy\n",
    "    shuffle(data)\n",
    "    train_data = data[:size]\n",
    "    test_data = data[size:]\n",
    "    try:\n",
    "        w = train(train_data,size)\n",
    "    except linalg.LinAlgError: #some sizes yield matrixes that are singular\n",
    "        return None\n",
    "    test_X,test_y = prep(test_data)\n",
    "    train_X,train_y = prep(train_data)\n",
    "    pred_x =[data @ w for data in train_X]\n",
    "    def mse(X,y):\n",
    "        return sum([(data @ w - output)**2 for data,output in zip(X,y)])\n",
    "    suc_train = float(mse(train_X,train_y))\n",
    "    suc_test = float(mse(test_X,test_y))\n",
    "    return suc_train/100,suc_test/100"
   ]
  },
  {
   "cell_type": "code",
   "execution_count": 20,
   "metadata": {},
   "outputs": [
    {
     "name": "stdout",
     "output_type": "stream",
     "text": [
      "[(10, None), (50, (0.5318165671820121, 79.54770416059688)), (100, (2.5996364269912235, 70.59798507399576)), (200, (8.937434874923596, 22.66302686709879))]\n"
     ]
    }
   ],
   "source": [
    "data = reg_data\n",
    "sizes = [10,50,100,200]\n",
    "results = [(size,suc(size,data)) for size in sizes]\n",
    "print(results)"
   ]
  },
  {
   "cell_type": "code",
   "execution_count": 26,
   "metadata": {},
   "outputs": [
    {
     "data": {
      "image/png": "[encoded data removed]",
      "text/plain": [
       "<matplotlib.figure.Figure at 0x1f34f97db38>"
      ]
     },
     "metadata": {},
     "output_type": "display_data"
    }
   ],
   "source": [
    "import matplotlib.pyplot as plt\n",
    "fig, ax = plt.subplots()\n",
    "tr_err = [result[1][0] for result in results if not result[1]==None]\n",
    "test_err = [result[1][1] for result in results if not result[1]==None]\n",
    "ax.plot(sizes[1:], tr_err,label=\"training error\")\n",
    "ax.plot(sizes[1:],test_err,label=\"test error\")\n",
    "ax.set(xlabel=\"Training set size (samples)\",ylabel=\"MSE\")\n",
    "ax.grid()\n",
    "ax.legend()\n",
    "plt.show()"
   ]
  },
  {
   "cell_type": "code",
   "execution_count": null,
   "metadata": {},
   "outputs": [],
   "source": []
  }
 ],
 "metadata": {
  "kernelspec": {
   "display_name": "Python 3",
   "language": "python",
   "name": "python3"
  },
  "language_info": {
   "codemirror_mode": {
    "name": "ipython",
    "version": 3
   },
   "file_extension": ".py",
   "mimetype": "text/x-python",
   "name": "python",
   "nbconvert_exporter": "python",
   "pygments_lexer": "ipython3",
   "version": "3.6.3"
  },
  "varInspector": {
   "cols": {
    "lenName": 16,
    "lenType": 16,
    "lenVar": "100"
   },
   "kernels_config": {
    "python": {
     "delete_cmd_postfix": "",
     "delete_cmd_prefix": "del ",
     "library": "var_list.py",
     "varRefreshCmd": "print(var_dic_list())"
    },
    "r": {
     "delete_cmd_postfix": ") ",
     "delete_cmd_prefix": "rm(",
     "library": "var_list.r",
     "varRefreshCmd": "cat(var_dic_list()) "
    }
   },
   "position": {
    "height": "225px",
    "left": "319px",
    "right": "20px",
    "top": "137px",
    "width": "475px"
   },
   "types_to_exclude": [
    "module",
    "function",
    "builtin_function_or_method",
    "instance",
    "_Feature"
   ],
   "window_display": false
  }
 },
 "nbformat": 4,
 "nbformat_minor": 2
}
