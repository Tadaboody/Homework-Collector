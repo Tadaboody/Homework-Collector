{
 "cells": [
  {
   "cell_type": "markdown",
   "metadata": {},
   "source": [
    "# a\n",
    "The regression implementation is detailed in the file Regression.py"
   ]
  },
  {
   "cell_type": "code",
   "execution_count": 1,
   "metadata": {},
   "outputs": [],
   "source": [
    "from Regression import success_for_normal_regression,success_for_ridge_regression\n",
    "from scipy.io import loadmat"
   ]
  },
  {
   "cell_type": "markdown",
   "metadata": {},
   "source": [
    "# b\n",
    "We gather the error rates for the training sizes {10,50,100,200}"
   ]
  },
  {
   "cell_type": "code",
   "execution_count": 2,
   "metadata": {
    "scrolled": true
   },
   "outputs": [
    {
     "name": "stdout",
     "output_type": "stream",
     "text": [
      "[(10, 'Singular matrix'), (50, (0.039488592413051526, 1.0013941248633502)), (100, (0.10615093617767357, 0.7400597942733053)), (200, (0.27883497996424933, 0.3925386004868606))]\n"
     ]
    }
   ],
   "source": [
    "data = loadmat('regdata.mat')['R']\n",
    "sizes = [10,50,100,200]\n",
    "results = [ (size,success_for_normal_regression(size,data)) if success_for_normal_regression(size,data) is not None else (size,\"Singular matrix\") for size in sizes]\n",
    "print(results)"
   ]
  },
  {
   "cell_type": "markdown",
   "metadata": {},
   "source": [
    "We see that the matrix is singular for training size 10 so we use ridge regression instead"
   ]
  },
  {
   "cell_type": "code",
   "execution_count": 3,
   "metadata": {},
   "outputs": [
    {
     "name": "stdout",
     "output_type": "stream",
     "text": [
      "[(10, (0.02604874804856051, 1.0027536221066604)), (50, (0.04344212459191873, 0.8292887094113892)), (100, (0.11015702154100268, 0.7226210586776511)), (200, (0.2811953660750655, 0.4072472653118184))]\n"
     ]
    }
   ],
   "source": [
    "results = [(size, success_for_ridge_regression(size, data,gamma=4)) for size in sizes]\n",
    "print(results)"
   ]
  },
  {
   "cell_type": "code",
   "execution_count": 6,
   "metadata": {},
   "outputs": [
    {
     "data": {
      "image/png": "[encoded data removed]",
      "text/plain": [
       "<matplotlib.figure.Figure at 0x7f460ddf99e8>"
      ]
     },
     "metadata": {},
     "output_type": "display_data"
    }
   ],
   "source": [
    "import matplotlib.pyplot as plt\n",
    "fig, ax = plt.subplots()\n",
    "tr_err = [result[1][0] for result in results]\n",
    "test_err = [result[1][1] for result in results]\n",
    "ax.plot(sizes, tr_err, label=\"training error\")\n",
    "ax.plot(sizes, test_err, label=\"test error\")\n",
    "ax.set(xlabel=\"Training set size (samples)\", ylabel=\"MSE\",title=\"Ridge Regression MSE\")\n",
    "ax.grid()\n",
    "ax.legend()\n",
    "plt.show()"
   ]
  },
  {
   "cell_type": "markdown",
   "metadata": {},
   "source": [
    "# c\n",
    "We can see that the test error is decreasing with the increased training set size meaning we are still generalizeing. Though this might also be because the test set is becoming too small.  \n",
    "Overall we think that there isn't enough data to generalize and test using the costly test/train evaluation"
   ]
  }
 ],
 "metadata": {
  "kernelspec": {
   "display_name": "Python 3",
   "language": "python",
   "name": "python3"
  },
  "language_info": {
   "codemirror_mode": {
    "name": "ipython",
    "version": 3
   },
   "file_extension": ".py",
   "mimetype": "text/x-python",
   "name": "python",
   "nbconvert_exporter": "python",
   "pygments_lexer": "ipython3",
   "version": "3.5.2"
  },
  "varInspector": {
   "cols": {
    "lenName": 16,
    "lenType": 16,
    "lenVar": "100"
   },
   "kernels_config": {
    "python": {
     "delete_cmd_postfix": "",
     "delete_cmd_prefix": "del ",
     "library": "var_list.py",
     "varRefreshCmd": "print(var_dic_list())"
    },
    "r": {
     "delete_cmd_postfix": ") ",
     "delete_cmd_prefix": "rm(",
     "library": "var_list.r",
     "varRefreshCmd": "cat(var_dic_list()) "
    }
   },
   "position": {
    "height": "225px",
    "left": "862px",
    "right": "-57px",
    "top": "98px",
    "width": "475px"
   },
   "types_to_exclude": [
    "module",
    "function",
    "builtin_function_or_method",
    "instance",
    "_Feature"
   ],
   "window_display": true
  }
 },
 "nbformat": 4,
 "nbformat_minor": 2
}
