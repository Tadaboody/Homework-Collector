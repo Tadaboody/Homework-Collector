{
 "cells": [
  {
   "cell_type": "code",
   "execution_count": 51,
   "metadata": {},
   "outputs": [],
   "source": [
    "from scipy.io import loadmat\n",
    "import numpy as np\n",
    "import scipy\n",
    "from sklearn.neighbors import NearestNeighbors\n",
    "face_data = loadmat(\"FaceData.mat\");\n",
    "train_data = face_data[\"trainData\"];\n",
    "T = train_data\n",
    "N,d = T.shape # number of samples,dimension of sample\n",
    "c = N//2 #number of classes (people)"
   ]
  },
  {
   "cell_type": "code",
   "execution_count": 52,
   "metadata": {},
   "outputs": [],
   "source": [
    "def normalize(T):\n",
    "    global mean_pic\n",
    "    T = T.astype(float)\n",
    "    for index,sample in enumerate(T):\n",
    "        sample = np.true_divide(sample,sample.std())\n",
    "        sample = np.subtract(sample,sample.mean(0))\n",
    "        assert round(sample.mean(0),2) == 0 #rounding errors may occur\n",
    "        assert round(sample.std(0),2) == 1\n",
    "        sample -= mean_pic\n",
    "        T[index] = sample\n",
    "    if mean_pic is 0:\n",
    "        mean_pic = T.mean(0)\n",
    "        return normalize(T)\n",
    "    return T"
   ]
  },
  {
   "cell_type": "code",
   "execution_count": 58,
   "metadata": {},
   "outputs": [],
   "source": [
    "mean_pic = 0\n",
    "T = train_data\n",
    "T = normalize(T)\n",
    "A = np.column_stack(T)"
   ]
  },
  {
   "cell_type": "code",
   "execution_count": 59,
   "metadata": {
    "scrolled": true
   },
   "outputs": [],
   "source": [
    "S_prime = A.T @ A"
   ]
  },
  {
   "cell_type": "code",
   "execution_count": 60,
   "metadata": {},
   "outputs": [],
   "source": [
    "def k_best_eig_values_vectors(M,k,B=None):\n",
    "    a = scipy.linalg.eig(M,b=B)\n",
    "    eig_value_vector_pairs = [(value,vector) for value,vector in zip(a[0],a[1])]\n",
    "    best_eig_value_vectors = sorted(eig_value_vector_pairs,key=lambda x:x[0],reverse=True)[:k]\n",
    "    best_eig_values = np.array([pair[0] for pair in best_eig_value_vectors])\n",
    "    best_eig_vectors = np.array([pair[1] for pair in best_eig_value_vectors])\n",
    "    return best_eig_values,best_eig_vectors"
   ]
  },
  {
   "cell_type": "code",
   "execution_count": 61,
   "metadata": {},
   "outputs": [],
   "source": [
    "best_eig_values,best_eig_vectors = k_best_eig_values_vectors(S_prime,N-c)\n",
    "V = np.column_stack(best_eig_vectors)\n",
    "Z = np.diag(best_eig_values)\n",
    "W_pca = A @ V @ Z"
   ]
  },
  {
   "cell_type": "code",
   "execution_count": 64,
   "metadata": {},
   "outputs": [],
   "source": [
    "proj_T = np.array(T) @ W_pca\n",
    "mean_pic = proj_T.mean(0)\n",
    "# proj_T = normalize(proj_T)\n",
    "face_pairs = np.array([(proj_T[i],proj_T[i+1]) for i,t in enumerate(proj_T[:-1]) if i%2 == 0])\n",
    "mu = np.array([np.mean(pair,0) for pair in face_pairs])"
   ]
  },
  {
   "cell_type": "code",
   "execution_count": 69,
   "metadata": {},
   "outputs": [],
   "source": [
    "def S_i(i):\n",
    "    return sum(np.array([(face - mu[i]) @ np.array([(face - mu[i])]).T for face in face_pairs[i]]))\n",
    "S_w = sum(np.array([S_i(i) for i in range(c)]))\n",
    "S_b = sum(np.array([2*np.array([(mu_i - mean_pic)]).T@np.array([(mu_i - mean_pic)]) for mu_i in mu]))"
   ]
  },
  {
   "cell_type": "code",
   "execution_count": 64,
   "metadata": {},
   "outputs": [],
   "source": [
    "best_eig_values,best_eig_vectors = k_best_eig_values_vectors(S_w,c-1,S_b)"
   ]
  },
  {
   "cell_type": "code",
   "execution_count": 65,
   "metadata": {},
   "outputs": [
    {
     "data": {
      "text/plain": [
       "array([[ 0.31023919+0.j,  0.49329351+0.j,  0.23669429+0.j, ...,\n",
       "         0.29289258+0.j,  0.20502109+0.j, -0.33253974+0.j],\n",
       "       [ 0.00348234+0.j,  0.00197569+0.j,  0.01169005+0.j, ...,\n",
       "         0.01628747+0.j, -0.00928397+0.j,  0.00154044+0.j],\n",
       "       [-0.00397104+0.j,  0.00261942+0.j, -0.01204196+0.j, ...,\n",
       "        -0.00448764+0.j,  0.00514064+0.j, -0.00560062+0.j],\n",
       "       ..., \n",
       "       [-0.10086469+0.j, -0.12335900+0.j,  0.35022460+0.j, ...,\n",
       "         0.37797026+0.j, -0.43023082+0.j, -0.56676843+0.j],\n",
       "       [-0.31276321+0.j,  0.03527419+0.j, -0.15961962+0.j, ...,\n",
       "        -0.28117501+0.j,  0.01926593+0.j,  0.02966516+0.j],\n",
       "       [-0.28351759+0.j, -0.13247946+0.j,  0.16284675+0.j, ...,\n",
       "        -0.13027443+0.j,  0.03575380+0.j,  0.19321467+0.j]])"
      ]
     },
     "execution_count": 65,
     "metadata": {},
     "output_type": "execute_result"
    }
   ],
   "source": [
    "best_eig_vectors"
   ]
  },
  {
   "cell_type": "code",
   "execution_count": 71,
   "metadata": {},
   "outputs": [],
   "source": [
    "W_mda = np.column_stack(best_eig_vectors)"
   ]
  },
  {
   "cell_type": "code",
   "execution_count": 72,
   "metadata": {},
   "outputs": [],
   "source": [
    "W_opt = W_mda @ W_pca.T"
   ]
  },
  {
   "cell_type": "code",
   "execution_count": 74,
   "metadata": {},
   "outputs": [],
   "source": [
    "train_data = face_data[\"trainData\"]\n",
    "test_data = face_data[\"testData\"]\n",
    "face_pairs = np.array([(train_data[i],train_data[i+1]) for i,t in enumerate(train_data[:-1]) if i%2 == 0])\n",
    "models = np.array([np.mean(pair,0) for pair in face_pairs])\n",
    "proj_models = np.array([W_opt @ model for model in models])"
   ]
  },
  {
   "cell_type": "code",
   "execution_count": 76,
   "metadata": {},
   "outputs": [
    {
     "data": {
      "text/plain": [
       "(50, 100)"
      ]
     },
     "execution_count": 76,
     "metadata": {},
     "output_type": "execute_result"
    }
   ],
   "source": [
    "#classification\n",
    "mean_pic = 0\n",
    "normalize(test_data)\n",
    "proj_test = np.array([W_opt @ test for test in test_data])\n",
    "proj_test.shape"
   ]
  },
  {
   "cell_type": "code",
   "execution_count": 77,
   "metadata": {},
   "outputs": [
    {
     "name": "stderr",
     "output_type": "stream",
     "text": [
      "d:\\bash\\home\\tadaboody\\homework-collector\\machine learning\\virt_env\\lib\\site-packages\\numpy\\core\\numeric.py:492: ComplexWarning: Casting complex values to real discards the imaginary part\n",
      "  return array(a, dtype, copy=False, order=order)\n",
      "d:\\bash\\home\\tadaboody\\homework-collector\\machine learning\\virt_env\\lib\\site-packages\\sklearn\\utils\\validation.py:433: ComplexWarning: Casting complex values to real discards the imaginary part\n",
      "  array = np.array(array, dtype=dtype, order=order, copy=copy)\n"
     ]
    }
   ],
   "source": [
    "nbrs = NearestNeighbors(n_neighbors=1).fit(proj_models)\n",
    "distances , indices = nbrs.kneighbors(proj_test)"
   ]
  },
  {
   "cell_type": "code",
   "execution_count": 78,
   "metadata": {},
   "outputs": [],
   "source": [
    "correct = [index for index,img in enumerate(proj_test) if index == indices[index]]"
   ]
  },
  {
   "cell_type": "code",
   "execution_count": 79,
   "metadata": {},
   "outputs": [],
   "source": [
    "suc = len(correct)/len(proj_test)"
   ]
  },
  {
   "cell_type": "code",
   "execution_count": 80,
   "metadata": {},
   "outputs": [
    {
     "data": {
      "text/plain": [
       "0.52"
      ]
     },
     "execution_count": 80,
     "metadata": {},
     "output_type": "execute_result"
    }
   ],
   "source": [
    "suc"
   ]
  }
 ],
 "metadata": {
  "kernelspec": {
   "display_name": "Python 3",
   "language": "python",
   "name": "python3"
  },
  "language_info": {
   "codemirror_mode": {
    "name": "ipython",
    "version": 3
   },
   "file_extension": ".py",
   "mimetype": "text/x-python",
   "name": "python",
   "nbconvert_exporter": "python",
   "pygments_lexer": "ipython3",
   "version": "3.6.3"
  },
  "varInspector": {
   "cols": {
    "lenName": 16,
    "lenType": 16,
    "lenVar": "100"
   },
   "kernels_config": {
    "python": {
     "delete_cmd_postfix": "",
     "delete_cmd_prefix": "del ",
     "library": "var_list.py",
     "varRefreshCmd": "print(var_dic_list())"
    },
    "r": {
     "delete_cmd_postfix": ") ",
     "delete_cmd_prefix": "rm(",
     "library": "var_list.r",
     "varRefreshCmd": "cat(var_dic_list()) "
    }
   },
   "position": {
    "height": "581px",
    "left": "1280px",
    "right": "20px",
    "top": "82px",
    "width": "580px"
   },
   "types_to_exclude": [
    "module",
    "function",
    "builtin_function_or_method",
    "instance",
    "_Feature"
   ],
   "window_display": true
  }
 },
 "nbformat": 4,
 "nbformat_minor": 2
}
