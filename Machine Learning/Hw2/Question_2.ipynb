{
 "cells": [
  {
   "cell_type": "code",
   "execution_count": 11,
   "metadata": {},
   "outputs": [],
   "source": [
    "def read_text(text_path):\n",
    "    texAll = list()\n",
    "    libAll = list()\n",
    "    Voc = set()\n",
    "    cat = set()\n",
    "    with open(text_path) as text:\n",
    "        for line in text:\n",
    "            line = line.split()\n",
    "            catagory = line[0]\n",
    "            data = line[1:]\n",
    "            cat|=set([catagory])\n",
    "            Voc|=set(data)\n",
    "            texAll.append(data)\n",
    "            libAll.append(catagory)\n",
    "    return texAll,libAll,Voc,cat"
   ]
  },
  {
   "cell_type": "code",
   "execution_count": 12,
   "metadata": {},
   "outputs": [],
   "source": [
    "def learn_NB_text(texAll, libAll, Voc, cat):\n",
    "    P = {catagory: 0 for catagory in cat}\n",
    "    Pw = {word: {catagory: 0 for catagory in cat} for word in Voc}\n",
    "    for catagory in cat:\n",
    "        docs = [doc for doc, label in zip(texAll, libAll) if label == catagory]\n",
    "        text = list()\n",
    "        P[catagory] = len(docs) / len(texAll)\n",
    "        for doc in docs:\n",
    "            text += doc\n",
    "        n = len(text)\n",
    "        for phrase in Voc:\n",
    "            nk = len([word for word in text if word==phrase])\n",
    "            Pw[phrase][catagory] = (nk+1)/(n+len(Voc))\n",
    "    return Pw,P"
   ]
  },
  {
   "cell_type": "code",
   "execution_count": 13,
   "metadata": {},
   "outputs": [],
   "source": [
    "import math\n",
    "def ClassifyNB_text(Pw, P, text,Voc, cat):\n",
    "    max_label = \"\"\n",
    "    max_value = float(\"-inf\")\n",
    "    for catagory in cat:\n",
    "        value = math.log(P[catagory])\n",
    "        for word in text:\n",
    "            if word in Voc:\n",
    "                value += math.log(Pw[word][catagory])\n",
    "        else:\n",
    "            if value > max_value:\n",
    "                max_value = value\n",
    "                max_label = catagory\n",
    "    return max_label"
   ]
  },
  {
   "cell_type": "code",
   "execution_count": 14,
   "metadata": {},
   "outputs": [],
   "source": [
    "import os\n",
    "texAll, libAll, Voc, cat = read_text(\n",
    "    os.path.join(\"textClassif\", \"r8-train-stemmed.txt\"))\n",
    "Pw, P = learn_NB_text(texAll, libAll, Voc, cat)"
   ]
  },
  {
   "cell_type": "code",
   "execution_count": 15,
   "metadata": {},
   "outputs": [
    {
     "name": "stdout",
     "output_type": "stream",
     "text": [
      "success_rate = 96%\n"
     ]
    }
   ],
   "source": [
    "texAll, libAll, Voc2, cat = read_text(\n",
    "    os.path.join(\"textClassif\", \"r8-test-stemmed.txt\"))\n",
    "classifications = [ClassifyNB_text(Pw,P,text,Voc,cat) for text in texAll]\n",
    "correct_classifications = [classification for classification, label in zip(\n",
    "    classifications, libAll) if label == classification]\n",
    "success_rate = len(correct_classifications)/len(classifications)\n",
    "print(\"success_rate = \" + str(int(success_rate*100)) + \"%\")"
   ]
  }
 ],
 "metadata": {
  "kernelspec": {
   "display_name": "Python 3",
   "language": "python",
   "name": "python3"
  },
  "language_info": {
   "codemirror_mode": {
    "name": "ipython",
    "version": 3
   },
   "file_extension": ".py",
   "mimetype": "text/x-python",
   "name": "python",
   "nbconvert_exporter": "python",
   "pygments_lexer": "ipython3",
   "version": "3.6.3"
  }
 },
 "nbformat": 4,
 "nbformat_minor": 2
}
