{
 "cells": [
  {
   "cell_type": "code",
   "execution_count": 3,
   "metadata": {},
   "outputs": [],
   "source": [
    "import os\n",
    "from naive_bais import *\n",
    "texAll, libAll, Voc, cat = read_text(\n",
    "    os.path.join(\"textClassif\", \"r8-train-stemmed.txt\"))\n",
    "Pw, P = learn_NB_text(texAll, libAll, Voc, cat)"
   ]
  },
  {
   "cell_type": "code",
   "execution_count": 5,
   "metadata": {},
   "outputs": [
    {
     "name": "stdout",
     "output_type": "stream",
     "text": [
      "success_rate = 0.9607126541799909%\n"
     ]
    }
   ],
   "source": [
    "texAll, libAll, Voc2, cat = read_text(\n",
    "    os.path.join(\"textClassif\", \"r8-test-stemmed.txt\"))\n",
    "success_rate = ClassifyNB_text(Pw, P, texAll, libAll, Voc, cat)\n",
    "print(\"success_rate = \" + str(success_rate) + \"%\")"
   ]
  }
 ],
 "metadata": {
  "kernelspec": {
   "display_name": "Python 3",
   "language": "python",
   "name": "python3"
  },
  "language_info": {
   "codemirror_mode": {
    "name": "ipython",
    "version": 3
   },
   "file_extension": ".py",
   "mimetype": "text/x-python",
   "name": "python",
   "nbconvert_exporter": "python",
   "pygments_lexer": "ipython3",
   "version": "3.6.3"
  }
 },
 "nbformat": 4,
 "nbformat_minor": 2
}
